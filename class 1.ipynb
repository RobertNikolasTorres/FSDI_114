{
 "cells": [
  {
   "cell_type": "markdown",
   "id": "0ba274d5-bbf9-425f-b000-c35533e71d96",
   "metadata": {},
   "source": [
    "define anagram_check with parameters string1 and string2\n",
    "    string1 = string1 without spaces\n",
    "    string2 = string2 without spaces\n",
    "    string1 = string1 in lower case\n",
    "    string2 = string2 in lower case\n",
    "    if the length of string1 is not equal to the length of string2:\n",
    "        return False\n",
    "    dictA = new dictionary\n",
    "    dictB = new dictionary\n",
    "    for each \"number\" in the range between 0 and the length of the string:\n",
    "        if the character at psoition \"number\" in string1 is not in dictA:\n",
    "            create a new entry in dictA with the keyset to the character and the value set to 1\n",
    "        otherwise:\n",
    "            add 1 to the existing entry's value for that character in dictA\n",
    "        if the character at position \"number\" in string2 is not in dictB:\n",
    "            create a new entry in DictB with the keys set to the character and the value set to 1\n",
    "        otherwise:\n",
    "            add 1 to the existing entry's value for that character in dictB\n",
    "    if dictA is equal to dictB:\n",
    "        return True\n",
    "    other:\n",
    "        return False\n",
    "        "
   ]
  },
  {
   "cell_type": "code",
   "execution_count": 3,
   "id": "6a04ca02-5a0f-4bea-8852-dfd4c19b01f1",
   "metadata": {},
   "outputs": [],
   "source": [
    "def anagram_check(string1, string2):\n",
    "    string1 = string1.replace(\" \", \"\").lower()\n",
    "    string2 = string2.replace(\" \", \"\").lower()\n",
    "\n",
    "    if len(string1) != len(string2):\n",
    "        return False\n",
    "    \n",
    "    dictA ={}\n",
    "    dictB ={}\n",
    "    \n",
    "    for number in range(len(string1)):\n",
    "        char1 = string1[number]\n",
    "        if char1 not in dictA:\n",
    "            dictA[char1] = 1\n",
    "        else:\n",
    "            dictA[char1] += 1\n",
    "        if char2 not in dictB:\n",
    "            dictB[char2] = 1\n",
    "        else:\n",
    "            dictB[char2] += 1\n",
    "    \n",
    "    if dictA == dictB:\n",
    "        return True\n",
    "    else:\n",
    "        return False"
   ]
  },
  {
   "cell_type": "code",
   "execution_count": 4,
   "id": "d6821680-9454-4d78-850a-a4a61475b8cb",
   "metadata": {},
   "outputs": [
    {
     "ename": "NameError",
     "evalue": "name 'char2' is not defined",
     "output_type": "error",
     "traceback": [
      "\u001b[0;31m---------------------------------------------------------------------------\u001b[0m",
      "\u001b[0;31mNameError\u001b[0m                                 Traceback (most recent call last)",
      "Cell \u001b[0;32mIn[4], line 1\u001b[0m\n\u001b[0;32m----> 1\u001b[0m \u001b[43managram_check\u001b[49m\u001b[43m(\u001b[49m\u001b[38;5;124;43m\"\u001b[39;49m\u001b[38;5;124;43mI am Lord Voldemort\u001b[39;49m\u001b[38;5;124;43m\"\u001b[39;49m\u001b[43m,\u001b[49m\u001b[43m \u001b[49m\u001b[38;5;124;43m\"\u001b[39;49m\u001b[38;5;124;43mTom Marvolo Riddle\u001b[39;49m\u001b[38;5;124;43m\"\u001b[39;49m\u001b[43m)\u001b[49m\n",
      "Cell \u001b[0;32mIn[3], line 17\u001b[0m, in \u001b[0;36managram_check\u001b[0;34m(string1, string2)\u001b[0m\n\u001b[1;32m     15\u001b[0m \u001b[38;5;28;01melse\u001b[39;00m:\n\u001b[1;32m     16\u001b[0m     dictA[char1] \u001b[38;5;241m+\u001b[39m\u001b[38;5;241m=\u001b[39m \u001b[38;5;241m1\u001b[39m\n\u001b[0;32m---> 17\u001b[0m \u001b[38;5;28;01mif\u001b[39;00m \u001b[43mchar2\u001b[49m \u001b[38;5;129;01mnot\u001b[39;00m \u001b[38;5;129;01min\u001b[39;00m dictB:\n\u001b[1;32m     18\u001b[0m     dictB[char2] \u001b[38;5;241m=\u001b[39m \u001b[38;5;241m1\u001b[39m\n\u001b[1;32m     19\u001b[0m \u001b[38;5;28;01melse\u001b[39;00m:\n",
      "\u001b[0;31mNameError\u001b[0m: name 'char2' is not defined"
     ]
    }
   ],
   "source": [
    "anagram_check(\"I am Lord Voldemort\", \"Tom Marvolo Riddle\")\n"
   ]
  },
  {
   "cell_type": "code",
   "execution_count": null,
   "id": "68444952-b8cc-4f91-b96c-d0cc69f8fd40",
   "metadata": {},
   "outputs": [],
   "source": []
  }
 ],
 "metadata": {
  "kernelspec": {
   "display_name": "Python 3 (ipykernel)",
   "language": "python",
   "name": "python3"
  },
  "language_info": {
   "codemirror_mode": {
    "name": "ipython",
    "version": 3
   },
   "file_extension": ".py",
   "mimetype": "text/x-python",
   "name": "python",
   "nbconvert_exporter": "python",
   "pygments_lexer": "ipython3",
   "version": "3.12.4"
  }
 },
 "nbformat": 4,
 "nbformat_minor": 5
}
