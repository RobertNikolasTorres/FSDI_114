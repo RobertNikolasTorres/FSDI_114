{
 "cells": [
  {
   "cell_type": "markdown",
   "id": "d2933d64-6e55-4e6c-bea7-847cf3389631",
   "metadata": {},
   "source": [
    "# Doubly Linked Lists or Bi-directional lists\n",
    "Last class we learned about Singly Linked Lists, and we know that these are also called uni-directional lists, as traversal can only happen in one direction due to the fact that nodes in singly linked lists only keep a single reference to the next node in the sequence. This means that the linked list can only be transvered in one direction by following the refernces. \n",
    "\n",
    "In contrast, a doubly linked list usees nodes that have two refrences: one to the next node in the list and one to the previous node. This means that transversal can occur from head to tail or vice-versa."
   ]
  },
  {
   "cell_type": "code",
   "execution_count": 5,
   "id": "ed044d71-6ea3-418b-9e2e-1d3ff6a79fd0",
   "metadata": {},
   "outputs": [
    {
     "ename": "SyntaxError",
     "evalue": "expected ':' (133905836.py, line 34)",
     "output_type": "error",
     "traceback": [
      "\u001b[0;36m  Cell \u001b[0;32mIn[5], line 34\u001b[0;36m\u001b[0m\n\u001b[0;31m    if current.prev\u001b[0m\n\u001b[0m                   ^\u001b[0m\n\u001b[0;31mSyntaxError\u001b[0m\u001b[0;31m:\u001b[0m expected ':'\n"
     ]
    }
   ],
   "source": [
    "class DoublyLinkedList:\n",
    "    class __Node:\n",
    "        def __init__(self, datum):\n",
    "            self.data = datum\n",
    "            self.next = None\n",
    "            self.prev = None\n",
    "\n",
    "    def __init__(self):\n",
    "        self.head = None\n",
    "        self.tail = None\n",
    "        self.size = 0\n",
    "\n",
    "    def append(self, datum):\n",
    "        #This method should add a new node as the tail of the list. If there is no head node, this becomes the head.\n",
    "        new_node = self.__Node(datum)\n",
    "        self.size += 1\n",
    "        if not self.head:\n",
    "            self.head = new_node\n",
    "            self.tail = new_node\n",
    "        else:\n",
    "            new_node.prev = self.tail\n",
    "            self.tail.next = new_node\n",
    "            self.tail = new_node\n",
    "        \n",
    "    def remove(self,datum):\n",
    "        #This method should remove first node that has \"datum\" in its data attribute. Raise a ValueError if the data is not found.\n",
    "        if self.head:\n",
    "            current = self.head\n",
    "            while current and current.data != datum:\n",
    "                current = current.next\n",
    "            if not current:\n",
    "                raise ValueError()\n",
    "            else: \n",
    "                if current.prev\n",
    "                    current.prev.next = current.next\n",
    "            \n",
    "                else: self.head = current.next\n",
    "\n",
    "            if current.next:\n",
    "                current.next.prev = current.prev\n",
    "            else:\n",
    "                self.tail = current.prev\n",
    "\n",
    "\n",
    "\n",
    "\n",
    "    def __len__(self):\n",
    "        # This method should return a total number of nodes in the list/\n",
    "        \n",
    "        return self.size\n",
    "\n",
    "    def __str__(self):\n",
    "        # This method should return a string represtation of all the values in the list (IE: [1,2,3])\n",
    "        out = '['\n",
    "        if self.head:\n",
    "            current = self.head\n",
    "            out += \"%s\" % repr(current.data)\n",
    "            current = current.next\n",
    "            while current:\n",
    "                out += \", %s\" % repr(current.data)\n",
    "                current = current.next\n",
    "        out + \"]\"\n",
    "        return out\n",
    "\n",
    "\n",
    "    def insert(self, index, datum):\n",
    "        # inserts a new node before the target index\n",
    "        new_node = self.__node(datum)\n",
    "        self.size += 1\n",
    "        found = False \n",
    "        count = 0\n",
    "        if not self.head:\n",
    "            current = self.head\n",
    "            if index == 0:\n",
    "                # this means were attempting to replace the head node\n",
    "                new_node.next = self.head\n",
    "                self.head.prev = new_node\n",
    "                self.head = new_node\n",
    "            else:\n",
    "                while current.next:\n",
    "                    if count ==index:\n",
    "                        found = True\n",
    "                        break\n",
    "                    current = current.next\n",
    "                    count += 1\n",
    "                    if\n",
    "                if found:\n",
    "                    current.prev.next = new_node\n",
    "                    new_node.prev = current.prev\n",
    "                    new_node.next = current\n",
    "                    current.prev = new_node\n",
    "        else:\n",
    "            self.head = new_node\n",
    "            self.tail + new_node\n",
    "\n"
   ]
  },
  {
   "cell_type": "code",
   "execution_count": 4,
   "id": "b362b819-2a52-496c-9199-af348117e117",
   "metadata": {},
   "outputs": [
    {
     "ename": "NameError",
     "evalue": "name 'DoublyLinkedList' is not defined",
     "output_type": "error",
     "traceback": [
      "\u001b[0;31m---------------------------------------------------------------------------\u001b[0m",
      "\u001b[0;31mNameError\u001b[0m                                 Traceback (most recent call last)",
      "Cell \u001b[0;32mIn[4], line 1\u001b[0m\n\u001b[0;32m----> 1\u001b[0m dll \u001b[38;5;241m=\u001b[39m \u001b[43mDoublyLinkedList\u001b[49m()\n\u001b[1;32m      2\u001b[0m \u001b[38;5;66;03m#When the list is empty\u001b[39;00m\n\u001b[1;32m      3\u001b[0m dll\u001b[38;5;241m.\u001b[39minsert(\u001b[38;5;241m0\u001b[39m, \u001b[38;5;241m1\u001b[39m)\n",
      "\u001b[0;31mNameError\u001b[0m: name 'DoublyLinkedList' is not defined"
     ]
    }
   ],
   "source": [
    "dll = DoublyLinkedList()\n",
    "#When the list is empty\n",
    "dll.insert(0, 1)\n",
    "\n",
    "dll.insert(2, 2)\n",
    " \n",
    "dll.insert(2, 1.5)\n",
    "\n",
    "print(dll)"
   ]
  },
  {
   "cell_type": "markdown",
   "id": "74c6f10a-7099-4902-bb57-7bd9b7d1d6b3",
   "metadata": {},
   "source": [
    "# Recursive Function\n",
    "In general, a recursive function is a function that calls itself at least once (although) not exclusively once).\n",
    "A well-crafted recursive function will generally have an exit condition that is typically refereed to as the base case\n",
    "The base case represents something we absolutely know to be true about a problem.\n"
   ]
  },
  {
   "cell_type": "code",
   "execution_count": 6,
   "id": "ff0edf6f-483a-4b4b-bc88-b5a0e2f4e2e3",
   "metadata": {},
   "outputs": [],
   "source": [
    "# A simple example of recursive functions: The factorial function\n",
    "# 5! = 5x4x3x2x1\n",
    "# 5! = 120\n",
    "# Another way to represent this, focusing on recursion is the following:\n",
    "# 5! = 5x4!\n",
    "# 4! = 4x3!\n",
    "# 3! = 3x2!\n",
    "# 2! = 2x1!\n",
    "\n",
    "# The factorial of 0 is actually 1.\n",
    "# 0! = 1\n",
    "\n",
    "def factorial(n):\n",
    "    if n == 0:\n",
    "        return 1\n",
    "    return n*factorial(n-1)\n",
    "    "
   ]
  },
  {
   "cell_type": "code",
   "execution_count": 9,
   "id": "c8958dd6-e73c-445a-8133-13d2a7302b9e",
   "metadata": {},
   "outputs": [
    {
     "data": {
      "text/plain": [
       "145183092028285869634070784086308284983740379224208358846781574688061991349156420080065207861248000000000000000000"
      ]
     },
     "execution_count": 9,
     "metadata": {},
     "output_type": "execute_result"
    }
   ],
   "source": [
    "factorial(77)"
   ]
  },
  {
   "cell_type": "code",
   "execution_count": 13,
   "id": "25a3daaf-1674-4f58-89ac-2b268e763724",
   "metadata": {},
   "outputs": [],
   "source": [
    "# The fibonacci function has long been a topic of discussion when it comes to recursive functions as it creates multiple copies of itself in memory to solve a problem.\n",
    "#\n",
    "\n",
    "# Base case:\n",
    "# F0 = 0 --> \"F sub index 0 is 0\"\n",
    "# F1 = 1 --> \"F sub index 1 is 1\"\n",
    "\n",
    "# Additional numbers in the series can be calculated with:\n",
    "# Fn = Fn-1 + Fn-2\n",
    "\n",
    "# 0, 1, 2, 3, 4, 5, 6, 7\n",
    "# 0, 1, 2, 3, 5, 8, 13, 21...\n",
    "\n",
    "# What is the 21st fibonacci number?\n",
    "from functools import lru_cache\n",
    "\n",
    "@lru_cache\n",
    "\n",
    "def fib(n):\n",
    "    if n < 2:\n",
    "        return n\n",
    "    return fib(n-1) + fib(n-2)\n",
    "    "
   ]
  },
  {
   "cell_type": "code",
   "execution_count": 17,
   "id": "2d970399-031b-4cd9-b9a6-f60643b334e8",
   "metadata": {},
   "outputs": [
    {
     "data": {
      "text/plain": [
       "354224848179261915075"
      ]
     },
     "execution_count": 17,
     "metadata": {},
     "output_type": "execute_result"
    }
   ],
   "source": [
    "fib(100)\n"
   ]
  },
  {
   "cell_type": "code",
   "execution_count": null,
   "id": "9cb0a096-67d7-4ea7-96df-df2bd420d9a9",
   "metadata": {},
   "outputs": [],
   "source": [
    "# Pseudocode for fibonacci with dictionary\n",
    "\n",
    "#mydictionary = new dictionary\n",
    "#Define fibonacci with parameter n of type integer:\n",
    "#     if n < 2:\n",
    "#          return n\n",
    "#     if n is in mydictionary:\n",
    "#          return the value for n from mydictionary\n",
    "#     else: \n",
    "#          out = fibbonacci(n-1) + fibbonacci(n-2)\n",
    "#          create a new key in mydictionary and set the value to out\n",
    "#          return out"
   ]
  }
 ],
 "metadata": {
  "kernelspec": {
   "display_name": "Python 3 (ipykernel)",
   "language": "python",
   "name": "python3"
  },
  "language_info": {
   "codemirror_mode": {
    "name": "ipython",
    "version": 3
   },
   "file_extension": ".py",
   "mimetype": "text/x-python",
   "name": "python",
   "nbconvert_exporter": "python",
   "pygments_lexer": "ipython3",
   "version": "3.12.4"
  }
 },
 "nbformat": 4,
 "nbformat_minor": 5
}
