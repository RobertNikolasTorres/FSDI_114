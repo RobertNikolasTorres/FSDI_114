{
 "cells": [
  {
   "cell_type": "markdown",
   "id": "b3321102-05bc-49c1-a421-c367c5a81eb7",
   "metadata": {},
   "source": [
    "# Queue \n",
    "A que is an ordered collection where items are added and removed from opposite ends.\n",
    "\n",
    "The ordering principle is represented by the acroynm _FIFO_ (first in, first out)."
   ]
  },
  {
   "cell_type": "code",
   "execution_count": 1,
   "id": "a6a501a4-25bd-4080-822e-a3ed0d38ca56",
   "metadata": {},
   "outputs": [],
   "source": [
    "# Simplified implementation of que (relying on built-ins)\n",
    "\n",
    "class Queue:\n",
    "    def __init__(self):\n",
    "        self.items = []\n",
    "\n",
    "    def enqueue(self, datum):\n",
    "        self.items.insert(0, datum)\n",
    "\n",
    "    def dequeue(self):\n",
    "        return self.items.pop()\n",
    "\n",
    "\n",
    "# nice to have methods\n",
    "    def peek(self):\n",
    "        return self.items[len(self.items)-1]\n",
    "\n",
    "    def is_empty(self):\n",
    "        return self.items == []\n",
    "\n",
    "    def size(self):\n",
    "        return len(self.items)\n",
    "    "
   ]
  },
  {
   "cell_type": "markdown",
   "id": "81ee673f-fe78-4cc5-b64f-095dc0198863",
   "metadata": {},
   "source": []
  },
  {
   "cell_type": "markdown",
   "id": "6b81002d-b454-4302-b9a7-b7806b890129",
   "metadata": {},
   "source": [
    "# problem 1\n",
    "Create a 'from scratch\" implementation of que, named QueII, which like StackII from last class, does not rely on built-ins.\n",
    "\n",
    "## Criteria\n",
    "1. Your QueueII class should use an embedded '__Node' class.\n",
    "2. Your QueueII class should support the following methods:\n",
    "    3. enqueue\n",
    "    4. dequeue\n",
    "    5. is_empty\n",
    "    6. size\n",
    "    7. peek\n",
    "3. The worst case time complexity for enqueue and dequeue should be 0(1) or constant.\n",
    "\n",
    "Note:\n",
    "The example above should help you test and ensure you are implementing your queue correctly."
   ]
  },
  {
   "cell_type": "code",
   "execution_count": 2,
   "id": "8fbc9894-91bd-4934-9715-0ed4f4116461",
   "metadata": {},
   "outputs": [
    {
     "name": "stdout",
     "output_type": "stream",
     "text": [
      "Dequeued: 1\n",
      "Dequeued: 2\n",
      "Dequeued: 3\n",
      "Dequeued: 4\n",
      "Dequeued: 5\n",
      "Dequeued: 6\n",
      "Dequeued: 7\n",
      "Dequeued: 8\n",
      "Dequeued: 9\n",
      "Dequeued: 10\n"
     ]
    }
   ],
   "source": [
    "queue = Queue()\n",
    "for number in range(1,11):\n",
    "    queue.enqueue(number)\n",
    "\n",
    "while not queue.is_empty():\n",
    "    print(\"Dequeued: %s\" % queue.dequeue())"
   ]
  },
  {
   "cell_type": "markdown",
   "id": "a170371c-5068-4c53-ac9e-8fc66dcfff0a",
   "metadata": {},
   "source": [
    "1. QueueII CLASS\n",
    "2. Node class\n",
    "3. __init__\n",
    "4. def enqueue(self, data)\n",
    "5. def dequeue(self)\n",
    "6. is_empty(self)\n",
    "7. def size(self)\n",
    "8. peek"
   ]
  },
  {
   "cell_type": "code",
   "execution_count": 8,
   "id": "b5f5df10-0a4b-4210-b972-b8ce5984de17",
   "metadata": {},
   "outputs": [
    {
     "ename": "SyntaxError",
     "evalue": "expected ':' (1019289095.py, line 13)",
     "output_type": "error",
     "traceback": [
      "\u001b[0;36m  Cell \u001b[0;32mIn[8], line 13\u001b[0;36m\u001b[0m\n\u001b[0;31m    if self.back is None\u001b[0m\n\u001b[0m                         ^\u001b[0m\n\u001b[0;31mSyntaxError\u001b[0m\u001b[0;31m:\u001b[0m expected ':'\n"
     ]
    }
   ],
   "source": [
    "class QueII:\n",
    "    class __Node:\n",
    "        def __init__(self, data):\n",
    "            self.data = data\n",
    "            self.next = None\n",
    "\n",
    "    def __init__(self):\n",
    "        self.front = None\n",
    "        self.back = None\n",
    "        self.size = 0\n",
    "\n",
    "    def enqueue(self, data):\n",
    "        new_node = Node(data)\n",
    "        if self.back is None:\n",
    "            self.front = self.back = new_node\n",
    "        else:\n",
    "            self.back.next = new_node\n",
    "            self.back = new_node\n",
    "        self.size += 1\n",
    "    \n",
    "    def dequeue(self):\n",
    "        if self.is_empty():\n",
    "            raise IndexError(\"Que is empty\")\n",
    "\n",
    "        self.size += 1\n",
    "        \n",
    "\n",
    "\n",
    "    def is_empty(self):\n",
    "        return self.size == 0\n",
    "\n",
    "    def size(self):\n",
    "        return self.size\n",
    "        \n",
    "    def peek(self):\n",
    "        if self.front:\n",
    "            return self.top.data\n",
    "        raise IndexError(\"Que is empty\")\n",
    "    "
   ]
  },
  {
   "cell_type": "markdown",
   "id": "3d1a9552-513b-4712-bdcb-85f860f1c61f",
   "metadata": {},
   "source": [
    "# Linked Lists\n",
    "In general, there are two varities of linked lists and these are:\n",
    "1. Singly Linked Lists laos known as uni-directional lists\n",
    "2. Doubly Linked Lists also known as bi-directional lists\n",
    "\n",
    "Today, we'll have a look at singly linked lists and how they work."
   ]
  },
  {
   "cell_type": "code",
   "execution_count": 10,
   "id": "9d3333e7-d026-483b-878a-35f562c25f85",
   "metadata": {},
   "outputs": [],
   "source": [
    "# From scratch implementation of Singly Linked Lists\n",
    "\n",
    "class SinglyLinkedList:\n",
    "    class __Node:\n",
    "        def __init__(self, datum):\n",
    "            self.data = datum\n",
    "            self.next = None\n",
    "\n",
    "    def __init__(self):\n",
    "        self.head = None\n",
    "        self.tail = None\n",
    "        self.size = 0\n",
    "\n",
    "    def append(self, datum):\n",
    "        new_node = self.__Node(datum)\n",
    "        self.size += 1\n",
    "        if not self.head:\n",
    "            self.head = new_node\n",
    "            self.tail = new_node\n",
    "        else:\n",
    "            self.tail.next = new_node\n",
    "            self.tail = new_node\n",
    "\n",
    "    def remove(self, datum):\n",
    "    # remoevs the first instance of \"datum: from the list if founf:ValueError iif not found\n",
    "        if self.head:\n",
    "            previous = None\n",
    "            current = self.head\n",
    "            while current and current.data != datum:\n",
    "                previous = current\n",
    "                current = current.next\n",
    "            if not current:\n",
    "                raise ValueError(\"%s not found in list\" % datum)\n",
    "            else:\n",
    "                if previous:\n",
    "                    previous.next = current.next\n",
    "                else:\n",
    "                    self.head = self.head.next\n",
    "                    if not self.head:\n",
    "                        self.tail = None\n",
    "                self.size -= 1\n",
    "        else:\n",
    "            raise IndexError(\"List is emtpy\")\n",
    "\n",
    "    def __len__(self):\n",
    "        return self.size\n",
    "\n",
    "    def __str__(self):\n",
    "        out = \"[\"\n",
    "        if self.head:\n",
    "            current = self.head\n",
    "            out += \"%s\" % repr(current.data)\n",
    "            current = current.next\n",
    "            while current:\n",
    "                out += \", %s\" % repr(current.data)\n",
    "                current = current.next\n",
    "        out += \"]\"\n",
    "        return out"
   ]
  },
  {
   "cell_type": "code",
   "execution_count": 11,
   "id": "a490515a-60ee-4f78-9947-fde012c10f16",
   "metadata": {},
   "outputs": [
    {
     "name": "stdout",
     "output_type": "stream",
     "text": [
      "Our list: [1, 2, 3, 4, 5, 6, 7, 8, 9, 10]\n"
     ]
    }
   ],
   "source": [
    "sll = SinglyLinkedList()\n",
    "\n",
    "for number in range(1, 11):\n",
    "    sll.append(number)\n",
    "\n",
    "print(\"Our list: %s\" % sll)"
   ]
  },
  {
   "cell_type": "code",
   "execution_count": null,
   "id": "b62e705b-027a-4a13-b303-76ca22f68ca3",
   "metadata": {},
   "outputs": [],
   "source": []
  }
 ],
 "metadata": {
  "kernelspec": {
   "display_name": "Python 3 (ipykernel)",
   "language": "python",
   "name": "python3"
  },
  "language_info": {
   "codemirror_mode": {
    "name": "ipython",
    "version": 3
   },
   "file_extension": ".py",
   "mimetype": "text/x-python",
   "name": "python",
   "nbconvert_exporter": "python",
   "pygments_lexer": "ipython3",
   "version": "3.12.4"
  }
 },
 "nbformat": 4,
 "nbformat_minor": 5
}
